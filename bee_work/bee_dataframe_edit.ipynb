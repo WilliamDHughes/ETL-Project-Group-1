{
 "cells": [
  {
   "cell_type": "code",
   "execution_count": 1,
   "id": "81c21034",
   "metadata": {},
   "outputs": [],
   "source": [
    "import pandas as pd"
   ]
  },
  {
   "cell_type": "code",
   "execution_count": 3,
   "id": "b7a11a5f",
   "metadata": {},
   "outputs": [
    {
     "data": {
      "text/html": [
       "<div>\n",
       "<style scoped>\n",
       "    .dataframe tbody tr th:only-of-type {\n",
       "        vertical-align: middle;\n",
       "    }\n",
       "\n",
       "    .dataframe tbody tr th {\n",
       "        vertical-align: top;\n",
       "    }\n",
       "\n",
       "    .dataframe thead th {\n",
       "        text-align: right;\n",
       "    }\n",
       "</style>\n",
       "<table border=\"1\" class=\"dataframe\">\n",
       "  <thead>\n",
       "    <tr style=\"text-align: right;\">\n",
       "      <th></th>\n",
       "      <th>Unnamed: 0</th>\n",
       "      <th>brand</th>\n",
       "      <th>vintage</th>\n",
       "      <th>rating</th>\n",
       "      <th>price</th>\n",
       "      <th>num_ratings</th>\n",
       "      <th>location</th>\n",
       "    </tr>\n",
       "  </thead>\n",
       "  <tbody>\n",
       "    <tr>\n",
       "      <th>0</th>\n",
       "      <td>0</td>\n",
       "      <td>Adeptos</td>\n",
       "      <td>Reserve Cabernet Sauvignon 2018</td>\n",
       "      <td>4.2</td>\n",
       "      <td>32.99</td>\n",
       "      <td>84</td>\n",
       "      <td>Napa Valley, United States</td>\n",
       "    </tr>\n",
       "    <tr>\n",
       "      <th>1</th>\n",
       "      <td>1</td>\n",
       "      <td>Vinium</td>\n",
       "      <td>Reserve Cabernet Sauvignon 2018</td>\n",
       "      <td>4.3</td>\n",
       "      <td>34.99</td>\n",
       "      <td>86</td>\n",
       "      <td>Napa Valley, United States</td>\n",
       "    </tr>\n",
       "    <tr>\n",
       "      <th>2</th>\n",
       "      <td>2</td>\n",
       "      <td>Dolum Estates</td>\n",
       "      <td>Cask 28 Cabernet Sauvignon 2019</td>\n",
       "      <td>4.4</td>\n",
       "      <td>34.99</td>\n",
       "      <td>80</td>\n",
       "      <td>Stags Leap District, United States</td>\n",
       "    </tr>\n",
       "    <tr>\n",
       "      <th>3</th>\n",
       "      <td>3</td>\n",
       "      <td>Sling &amp; Spear</td>\n",
       "      <td>Cabernet Sauvignon 2018</td>\n",
       "      <td>4.3</td>\n",
       "      <td>44.99</td>\n",
       "      <td>110</td>\n",
       "      <td>Oakville, United States</td>\n",
       "    </tr>\n",
       "    <tr>\n",
       "      <th>4</th>\n",
       "      <td>4</td>\n",
       "      <td>St. Clement</td>\n",
       "      <td>Johanna Cabernet Sauvignon 2019</td>\n",
       "      <td>4.1</td>\n",
       "      <td>24.99</td>\n",
       "      <td>163</td>\n",
       "      <td>Knights Valley, United States</td>\n",
       "    </tr>\n",
       "  </tbody>\n",
       "</table>\n",
       "</div>"
      ],
      "text/plain": [
       "   Unnamed: 0          brand                          vintage  rating  price  \\\n",
       "0           0        Adeptos  Reserve Cabernet Sauvignon 2018     4.2  32.99   \n",
       "1           1         Vinium  Reserve Cabernet Sauvignon 2018     4.3  34.99   \n",
       "2           2  Dolum Estates  Cask 28 Cabernet Sauvignon 2019     4.4  34.99   \n",
       "3           3  Sling & Spear          Cabernet Sauvignon 2018     4.3  44.99   \n",
       "4           4    St. Clement  Johanna Cabernet Sauvignon 2019     4.1  24.99   \n",
       "\n",
       "   num_ratings                            location  \n",
       "0           84          Napa Valley, United States  \n",
       "1           86          Napa Valley, United States  \n",
       "2           80  Stags Leap District, United States  \n",
       "3          110             Oakville, United States  \n",
       "4          163       Knights Valley, United States  "
      ]
     },
     "execution_count": 3,
     "metadata": {},
     "output_type": "execute_result"
    }
   ],
   "source": [
    "# The path to our CSV file\n",
    "file = \"us_wines.csv\"\n",
    "# Read our Crowdfunding data into pandas\n",
    "df_usa = pd.read_csv(file)\n",
    "\n",
    "df_usa.head()"
   ]
  },
  {
   "cell_type": "code",
   "execution_count": null,
   "id": "64b681f7",
   "metadata": {},
   "outputs": [],
   "source": [
    "# The path to our CSV file\n",
    "file = \"us_wines.csv\"\n",
    "# Read our Crowdfunding data into pandas\n",
    "df_usa = pd.read_csv(file)\n",
    "\n",
    "df_usa.head()"
   ]
  },
  {
   "cell_type": "code",
   "execution_count": null,
   "id": "26637d31",
   "metadata": {},
   "outputs": [],
   "source": []
  },
  {
   "cell_type": "code",
   "execution_count": null,
   "id": "9416bec9",
   "metadata": {},
   "outputs": [],
   "source": []
  }
 ],
 "metadata": {
  "kernelspec": {
   "display_name": "Python 3 (ipykernel)",
   "language": "python",
   "name": "python3"
  },
  "language_info": {
   "codemirror_mode": {
    "name": "ipython",
    "version": 3
   },
   "file_extension": ".py",
   "mimetype": "text/x-python",
   "name": "python",
   "nbconvert_exporter": "python",
   "pygments_lexer": "ipython3",
   "version": "3.9.12"
  }
 },
 "nbformat": 4,
 "nbformat_minor": 5
}
