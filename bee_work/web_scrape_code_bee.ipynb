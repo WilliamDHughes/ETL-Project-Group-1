{
 "cells": [
  {
   "cell_type": "code",
   "execution_count": 24,
   "id": "d5625b21",
   "metadata": {},
   "outputs": [],
   "source": [
    "from splinter import Browser\n",
    "from bs4 import BeautifulSoup\n",
    "from webdriver_manager.chrome import ChromeDriverManager\n",
    "import pandas as pd\n",
    "from selenium import webdriver"
   ]
  },
  {
   "cell_type": "code",
   "execution_count": 25,
   "id": "182d4fa8",
   "metadata": {},
   "outputs": [
    {
     "name": "stderr",
     "output_type": "stream",
     "text": [
      "[WDM] - Downloading: 100%|█████████████████████████████████████████████████████████| 6.58M/6.58M [00:11<00:00, 582kB/s]\n"
     ]
    }
   ],
   "source": [
    "options = webdriver.ChromeOptions()\n",
    "options.add_argument(\"start-maximized\")\n",
    "options.add_argument('--disable-blink-features=AutomationControlled')\n",
    "executable_path = {'executable_path': ChromeDriverManager().install()}\n",
    "browser = Browser('chrome', **executable_path, options=options)"
   ]
  },
  {
   "cell_type": "code",
   "execution_count": 7,
   "id": "4ccf665a",
   "metadata": {},
   "outputs": [],
   "source": [
    "url = 'https://www.vivino.com/'\n",
    "\n",
    "html = requests.get(url)"
   ]
  },
  {
   "cell_type": "code",
   "execution_count": 8,
   "id": "6adec3da",
   "metadata": {},
   "outputs": [
    {
     "data": {
      "text/plain": [
       "bs4.BeautifulSoup"
      ]
     },
     "execution_count": 8,
     "metadata": {},
     "output_type": "execute_result"
    }
   ],
   "source": [
    "soup = BeautifulSoup(html.text, 'html.parser')\n",
    "type(soup)"
   ]
  },
  {
   "cell_type": "code",
   "execution_count": 9,
   "id": "1e70d338",
   "metadata": {},
   "outputs": [
    {
     "name": "stdout",
     "output_type": "stream",
     "text": [
      "<!DOCTYPE html>\n",
      "<html lang=\"en\">\n",
      " <head>\n",
      "  <meta charset=\"utf-8\"/>\n",
      "  <meta content=\"width=device-width, initial-scale=1\" name=\"viewport\"/>\n",
      "  <meta content=\"px-captcha\" name=\"description\"/>\n",
      "  <title>\n",
      "   Access to this page has been denied\n",
      "  </title>\n",
      " </head>\n",
      " <body>\n",
      "  <script>\n",
      "   window._pxVid = '';\n",
      "        window._pxUuid = 'ac4edf4d-7ce7-11ed-a8b2-424a6b794546';\n",
      "        window._pxAppId = 'PXK6S8okp3';\n",
      "        window._pxHostUrl = 'https://collector-PXK6S8okp3.perimeterx.net';\n",
      "        window._pxCustomLogo = 'https://www.wine-searcher.com/images/main-logo-PX.png';\n",
      "        window._pxJsClientSrc = '//client.perimeterx.net/PXK6S8okp3/main.min.js';\n",
      "        window._pxFirstPartyEnabled = 'true';\n",
      "        var script = document.createElement('script');\n",
      "        script.src = '//captcha.perimeterx.net/PXK6S8okp3/captcha.js?a=c&u=ac4edf4d-7ce7-11ed-a8b2-424a6b794546&v=&m=0';\n",
      "        document.head.appendChild(script);\n",
      "        script.onerror = function () {\n",
      "            script = document.createElement('script');\n",
      "            script.src = 'https://captcha.px-cloud.net/PXK6S8okp3/captcha.js?a=c&u=ac4edf4d-7ce7-11ed-a8b2-424a6b794546&v=&m=0';\n",
      "            script.onerror = window._pxDisplayErrorMessage;\n",
      "            document.head.appendChild(script);\n",
      "        };\n",
      "        window._pxDisplayErrorMessage = function () {\n",
      "            var style = document.createElement('style');\n",
      "            style.innerText = '@import url(https://fonts.googleapis.com/css2?family=Roboto:ital,wght@0,100;0,300;0,400;0,500;0,700;0,900;1,100;1,300;1,400;1,500;1,700;1,900&display=swap);body{background-color:#fafbfc}@media (max-width:480px){body{background-color:#fff}}.px-captcha-error-container{position:fixed;height:328px;background-color:#fff;font-family:Roboto,sans-serif}.px-captcha-error-header{color:#f0f1f2;font-size:29px;margin:67px 0 33px;font-weight:500;line-height:.83;text-align:center}.px-captcha-error-message{color:#f0f1f2;font-size:18px;margin:0 0 29px;line-height:1.33;text-align:center}div.px-captcha-error-button{text-align:center;line-height:50px;width:253px;margin:auto;border-radius:25px;border:solid 1px #f0f1f2;font-size:20px;color:#f0f1f2}div.px-captcha-error-wrapper{margin:23px 0 0}div.px-captcha-error{margin:auto;text-align:center;width:400px;height:30px;font-size:12px;background-color:#fcf0f2;color:#ce0e2d}img.px-captcha-error{margin:6px 10px -2px 0}@media (min-width:620px){.px-captcha-error-container{width:528px;top:50%;left:50%;margin-top:-164px;margin-left:-264px;border-radius:3px;box-shadow:0 2px 9px -1px rgba(0,0,0,.13)}}@media (min-width:481px) and (max-width:620px){.px-captcha-error-container{width:85%;top:50%;left:50%;margin-top:-164px;margin-left:-42.5%;border-radius:3px;box-shadow:0 2px 9px -1px rgba(0,0,0,.13)}}@media (max-width:480px){.px-captcha-error-container{width:528px;top:50%;left:50%;margin-top:-164px;margin-left:-264px}}';\n",
      "            document.head.appendChild(style);\n",
      "            var div = document.createElement('div');\n",
      "            div.className = 'px-captcha-error-container';\n",
      "            div.innerHTML = '<div class=\"px-captcha-error-header\">Before we continue...</div><div class=\"px-captcha-error-message\">Press & Hold to confirm you are<br>a human (and not a bot).</div><div class=\"px-captcha-error-button\">Press & Hold</div><div class=\"px-captcha-error-wrapper\"><div class=\"px-captcha-error\"><img class=\"px-captcha-error\" src=\"data:image/png;base64,iVBORw0KGgoAAAANSUhEUgAAABMAAAAQCAMAAADDGrRQAAAABGdBTUEAALGPC/xhBQAAAAFzUkdCAK7OHOkAAABFUExURUdwTNYELOEGONQILd0AONwALtwEL+AAL9MFLfkJSNQGLdMJLdQJLdQGLdQKLtYFLNcELdUGLdcBL9gFL88OLdUFLNEOLglBhT4AAAAXdFJOUwC8CqgNIRgRoAS1dWWuR4RTjzgryZpYblfkcAAAAI9JREFUGNNdj+sWhCAIhAdvqGVa1r7/oy6RZ7eaH3D4ZACBIed9wlOOMtUnSrEmZ6cHa9YAIfsbCkWrdpi/c50Bk2CO9mNLdMAu03wJA3HpEnfpxbyOg6ruyx8JJi6KNstnslp1dbPd9GnqmuYq7mmcv1zjnbQw8cV0xzkqo+fX1zkjUOO7wnrInUTxJiruC3vtBNRoQQn2AAAAAElFTkSuQmCC\">Please check your network connection or disable your ad-blocker.</div></div>';\n",
      "            document.body.appendChild(div);\n",
      "        };\n",
      "  </script>\n",
      "  <script src=\"\">\n",
      "  </script>\n",
      " </body>\n",
      "</html>\n"
     ]
    }
   ],
   "source": [
    "# Print formatted version of the soup\n",
    "print(soup.prettify())"
   ]
  },
  {
   "cell_type": "code",
   "execution_count": 12,
   "id": "1b97b932",
   "metadata": {},
   "outputs": [
    {
     "data": {
      "text/plain": [
       "[]"
      ]
     },
     "execution_count": 12,
     "metadata": {},
     "output_type": "execute_result"
    }
   ],
   "source": [
    "results = soup.find_all('div', class_='caption')\n",
    "results"
   ]
  },
  {
   "cell_type": "code",
   "execution_count": 11,
   "id": "7e04f394",
   "metadata": {},
   "outputs": [],
   "source": [
    "# Loop through returned results\n",
    "for result in results:\n",
    "    # Error handling\n",
    "    try:\n",
    "        # Identify and return title of listing\n",
    "        title = result.find('a', class_='title').text\n",
    "        # Identify and return price of listing\n",
    "        price = result.find('h4', class_='price').text\n",
    "        # Identify and return link to listing\n",
    "        link = result.a['href']\n",
    "\n",
    "        # Print results only if title, price, and link are available\n",
    "        if (title and price and link):\n",
    "            print('-------------')\n",
    "            print(title)\n",
    "            print(price)\n",
    "            print(link)\n",
    "    except AttributeError as e:\n",
    "        print(e)"
   ]
  },
  {
   "cell_type": "code",
   "execution_count": null,
   "id": "46c4785b",
   "metadata": {},
   "outputs": [],
   "source": [
    "\"https://www.totalwine.com/content/wine/red-wine\""
   ]
  },
  {
   "cell_type": "code",
   "execution_count": 20,
   "id": "d1b7f7fa",
   "metadata": {},
   "outputs": [],
   "source": [
    "url = \"https://www.totalwine.com/content/wine/red-wine\"\n",
    "\n",
    "html = requests.get(url)"
   ]
  },
  {
   "cell_type": "code",
   "execution_count": 21,
   "id": "a3184508",
   "metadata": {},
   "outputs": [
    {
     "data": {
      "text/plain": [
       "bs4.BeautifulSoup"
      ]
     },
     "execution_count": 21,
     "metadata": {},
     "output_type": "execute_result"
    }
   ],
   "source": [
    "soup = BeautifulSoup(html.text, 'html.parser')\n",
    "type(soup)"
   ]
  },
  {
   "cell_type": "code",
   "execution_count": 22,
   "id": "c7bc25bb",
   "metadata": {},
   "outputs": [
    {
     "name": "stdout",
     "output_type": "stream",
     "text": [
      "<!DOCTYPE html>\n",
      "<html lang=\"en\">\n",
      " <head>\n",
      "  <meta charset=\"utf-8\"/>\n",
      "  <meta content=\"width=device-width, initial-scale=1\" name=\"viewport\"/>\n",
      "  <title>\n",
      "   Total Wine &amp; More - Access to this page has been denied.\n",
      "  </title>\n",
      "  <link href=\"https://fonts.googleapis.com/css?family=Roboto&amp;display=swap\" rel=\"stylesheet\"/>\n",
      "  <style>\n",
      "   html, body { margin: 0; padding: 0; font-family: 'Roboto', sans-serif; color: #000; } a { color: #c5c5c5; text-decoration: none; } .container { align-items: center; display: flex; flex: 1; justify-content: space-between; flex-direction: column; height: 100%; } .container > div { width: 100%; display: flex; justify-content: center; } .container > div > div { display: flex; width: 80%; } .customer-logo-wrapper { padding: 0px; background-color: #811F08; } .customer-logo { padding: 16px 0px 16px 0px; } .page-title-wrapper { flex-grow: 2; } .page-title { flex-direction: column-reverse; } .content-wrapper { flex-grow: 5; } .content { flex-direction: column; } .page-footer-wrapper { align-items: center; flex-grow: 0.2; background-color: #000; color: #c5c5c5; font-size: 70%; } @media (min-width: 768px) { html, body { height: 100%; } }\n",
      "  </style>\n",
      "  <!-- Custom CSS -->\n",
      " </head>\n",
      " <body>\n",
      "  <section class=\"container\">\n",
      "   <div class=\"customer-logo-wrapper\">\n",
      "    <div class=\"customer-logo\">\n",
      "     <svg height=\"50\" style=\"color: #fff !important; fill: #fff !important; text-align: bottom;\" viewbox=\"0 0 180 50\" width=\"180\">\n",
      "      <use xlink:href=\"/global-static-resources/twm-sprite.svg#twm-logo\">\n",
      "      </use>\n",
      "     </svg>\n",
      "    </div>\n",
      "   </div>\n",
      "   <div class=\"page-title-wrapper\">\n",
      "    <div class=\"page-title\">\n",
      "     <h1>\n",
      "      Please verify you are a human\n",
      "     </h1>\n",
      "    </div>\n",
      "   </div>\n",
      "   <div class=\"content-wrapper\">\n",
      "    <div class=\"content\">\n",
      "     <div id=\"px-captcha\">\n",
      "     </div>\n",
      "     <p>\n",
      "      Access to this page has been denied because we believe you are using automation tools to browse the website.\n",
      "     </p>\n",
      "     <p>\n",
      "      This may happen as a result of the following:\n",
      "     </p>\n",
      "     <ul>\n",
      "      <li>\n",
      "       Javascript is disabled or blocked by an extension (ad blockers for example)\n",
      "      </li>\n",
      "      <li>\n",
      "       Your browser does not support cookies\n",
      "      </li>\n",
      "     </ul>\n",
      "     <p>\n",
      "      Please make sure that Javascript and cookies are enabled on your browser and that you are not blocking them from loading.\n",
      "     </p>\n",
      "     <p>\n",
      "      Reference ID: #c792ffaa-7cec-11ed-9561-796a714b6477\n",
      "     </p>\n",
      "    </div>\n",
      "   </div>\n",
      "   <div class=\"page-footer-wrapper\">\n",
      "    <div class=\"page-footer\">\n",
      "     <p>\n",
      "      Powered by\n",
      "      <a href=\"https://www.perimeterx.com/whywasiblocked\">\n",
      "       PerimeterX\n",
      "      </a>\n",
      "      , Inc.\n",
      "     </p>\n",
      "    </div>\n",
      "   </div>\n",
      "  </section>\n",
      "  <!-- Px -->\n",
      "  <script>\n",
      "   window._pxAppId = 'PXFF0j69T5'; window._pxJsClientSrc = '/FF0j69T5/init.js'; window._pxFirstPartyEnabled = true; window._pxVid = ''; window._pxUuid = 'c792ffaa-7cec-11ed-9561-796a714b6477'; window._pxHostUrl = '/FF0j69T5/xhr';\n",
      "  </script>\n",
      "  <script>\n",
      "   var s = document.createElement('script'); s.src = '/FF0j69T5/captcha/captcha.js?a=c&u=c792ffaa-7cec-11ed-9561-796a714b6477&v=&m=0'; var p = document.getElementsByTagName('head')[0]; p.insertBefore(s, null); if (true ){s.onerror = function () {s = document.createElement('script'); var suffixIndex = '/FF0j69T5/captcha/captcha.js?a=c&u=c792ffaa-7cec-11ed-9561-796a714b6477&v=&m=0'.indexOf('/captcha.js'); var temperedBlockScript = '/FF0j69T5/captcha/captcha.js?a=c&u=c792ffaa-7cec-11ed-9561-796a714b6477&v=&m=0'.substring(suffixIndex); s.src = '//captcha.px-cdn.net/PXFF0j69T5' + temperedBlockScript; p.parentNode.insertBefore(s, p);};}\n",
      "  </script>\n",
      "  <!-- Custom Script -->\n",
      " </body>\n",
      "</html>\n"
     ]
    }
   ],
   "source": [
    "# Print formatted version of the soup\n",
    "print(soup.prettify())"
   ]
  },
  {
   "cell_type": "code",
   "execution_count": 23,
   "id": "23d8ad37",
   "metadata": {},
   "outputs": [
    {
     "data": {
      "text/plain": [
       "[]"
      ]
     },
     "execution_count": 23,
     "metadata": {},
     "output_type": "execute_result"
    }
   ],
   "source": [
    "results = soup.find_all('div', class_='caption')\n",
    "results"
   ]
  },
  {
   "cell_type": "code",
   "execution_count": 17,
   "id": "b9be8465",
   "metadata": {},
   "outputs": [],
   "source": [
    "# Loop through returned results\n",
    "for result in results:\n",
    "    # Error handling\n",
    "    try:\n",
    "        # Identify and return title of listing\n",
    "        title = result.find('a', class_='title').text\n",
    "        # Identify and return price of listing\n",
    "        price = result.find('h4', class_='price').text\n",
    "        # Identify and return link to listing\n",
    "        link = result.a['href']\n",
    "\n",
    "        # Print results only if title, price, and link are available\n",
    "        if (title and price and link):\n",
    "            print('-------------')\n",
    "            print(title)\n",
    "            print(price)\n",
    "            print(link)\n",
    "    except AttributeError as e:\n",
    "        print(e)"
   ]
  },
  {
   "cell_type": "code",
   "execution_count": null,
   "id": "f76fd4d5",
   "metadata": {},
   "outputs": [],
   "source": []
  },
  {
   "cell_type": "code",
   "execution_count": null,
   "id": "cfd41ce7",
   "metadata": {},
   "outputs": [],
   "source": []
  },
  {
   "cell_type": "code",
   "execution_count": null,
   "id": "71989fef",
   "metadata": {},
   "outputs": [],
   "source": []
  },
  {
   "cell_type": "code",
   "execution_count": null,
   "id": "965b1235",
   "metadata": {},
   "outputs": [],
   "source": []
  },
  {
   "cell_type": "code",
   "execution_count": null,
   "id": "20048127",
   "metadata": {},
   "outputs": [],
   "source": []
  }
 ],
 "metadata": {
  "kernelspec": {
   "display_name": "Python 3 (ipykernel)",
   "language": "python",
   "name": "python3"
  },
  "language_info": {
   "codemirror_mode": {
    "name": "ipython",
    "version": 3
   },
   "file_extension": ".py",
   "mimetype": "text/x-python",
   "name": "python",
   "nbconvert_exporter": "python",
   "pygments_lexer": "ipython3",
   "version": "3.9.12"
  }
 },
 "nbformat": 4,
 "nbformat_minor": 5
}
